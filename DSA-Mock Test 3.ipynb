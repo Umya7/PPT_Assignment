{
 "cells": [
  {
   "cell_type": "markdown",
   "id": "3c87dc3a",
   "metadata": {},
   "source": [
    "**Q.1.** Implement a stack using a list in Python. Include the necessary methods such as push, pop, and isEmpty."
   ]
  },
  {
   "cell_type": "code",
   "execution_count": 1,
   "id": "f103eb37",
   "metadata": {},
   "outputs": [
    {
     "name": "stdout",
     "output_type": "stream",
     "text": [
      "Initial stack: [10, 20, 30]\n",
      "Popped element: 30\n",
      "Popped element: 20\n",
      "Popped element: 10\n",
      "Stack after popping: []\n"
     ]
    }
   ],
   "source": [
    "# Create an empty stack\n",
    "stack = []\n",
    "\n",
    "# Define push, pop, and isEmpty methods\n",
    "def push(stack, x):\n",
    "    # Add x to the top of the stack\n",
    "    stack.append(x)\n",
    "\n",
    "def pop(stack):\n",
    "    # Remove and return the top element of the stack\n",
    "    if not isEmpty(stack):\n",
    "        return stack.pop()\n",
    "    else:\n",
    "        print(\"Stack is empty\")\n",
    "\n",
    "def isEmpty(stack):\n",
    "    # Check if the stack is empty or not\n",
    "    return len(stack) == 0\n",
    "\n",
    "# Push some elements to the stack\n",
    "push(stack, 10)\n",
    "push(stack, 20)\n",
    "push(stack, 30)\n",
    "\n",
    "# Print the stack\n",
    "print(\"Initial stack:\", stack)\n",
    "\n",
    "# Pop some elements from the stack\n",
    "print(\"Popped element:\", pop(stack))\n",
    "print(\"Popped element:\", pop(stack))\n",
    "print(\"Popped element:\", pop(stack))\n",
    "\n",
    "# Print the stack after popping\n",
    "print(\"Stack after popping:\", stack)"
   ]
  },
  {
   "cell_type": "markdown",
   "id": "687d57d2",
   "metadata": {},
   "source": [
    "**Q.2.** Implement a queue using a list in Python. Include the necessary methods such as enqueue, dequeue, and isEmpty."
   ]
  },
  {
   "cell_type": "code",
   "execution_count": 2,
   "id": "0ea34ea1",
   "metadata": {},
   "outputs": [
    {
     "name": "stdout",
     "output_type": "stream",
     "text": [
      "Initial queue: [10, 20, 30]\n",
      "Dequeued element: 10\n",
      "Dequeued element: 20\n",
      "Dequeued element: 30\n",
      "Queue after dequeuing: []\n"
     ]
    }
   ],
   "source": [
    "# Create an empty queue\n",
    "queue = []\n",
    "\n",
    "# Define enqueue, dequeue, and isEmpty methods\n",
    "def enqueue(queue, x):\n",
    "    # Add x to the rear of the queue\n",
    "    queue.append(x)\n",
    "\n",
    "def dequeue(queue):\n",
    "    # Remove and return the first element of the queue\n",
    "    if not isEmpty(queue):\n",
    "        return queue.pop(0)\n",
    "    else:\n",
    "        print(\"Queue is empty\")\n",
    "\n",
    "def isEmpty(queue):\n",
    "    # Check if the queue is empty or not\n",
    "    return len(queue) == 0\n",
    "\n",
    "# Enqueue some elements to the queue\n",
    "enqueue(queue, 10)\n",
    "enqueue(queue, 20)\n",
    "enqueue(queue, 30)\n",
    "\n",
    "# Print the queue\n",
    "print(\"Initial queue:\", queue)\n",
    "\n",
    "# Dequeue some elements from the queue\n",
    "print(\"Dequeued element:\", dequeue(queue))\n",
    "print(\"Dequeued element:\", dequeue(queue))\n",
    "print(\"Dequeued element:\", dequeue(queue))\n",
    "\n",
    "# Print the queue after dequeuing\n",
    "print(\"Queue after dequeuing:\", queue)"
   ]
  }
 ],
 "metadata": {
  "kernelspec": {
   "display_name": "Python 3 (ipykernel)",
   "language": "python",
   "name": "python3"
  },
  "language_info": {
   "codemirror_mode": {
    "name": "ipython",
    "version": 3
   },
   "file_extension": ".py",
   "mimetype": "text/x-python",
   "name": "python",
   "nbconvert_exporter": "python",
   "pygments_lexer": "ipython3",
   "version": "3.10.9"
  }
 },
 "nbformat": 4,
 "nbformat_minor": 5
}
