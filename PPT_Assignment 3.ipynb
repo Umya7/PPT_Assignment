{
 "cells": [
  {
   "cell_type": "markdown",
   "id": "5423dd2e",
   "metadata": {},
   "source": [
    "**Q.1.** Given an integer array nums of length n and an integer target, find three integers in nums such that the sum is closest to the target.\n",
    "Return the sum of the three integers.\n",
    "\n",
    "You may assume that each input would have exactly one solution.\n",
    "\n",
    "**Example 1:**\n",
    "    \n",
    "**Input:** nums = [-1,2,1,-4], target = 1\n",
    "    \n",
    "**Output:** 2\n",
    "    \n",
    "Explanation: The sum that is closest to the target is 2. (-1 + 2 + 1 = 2)."
   ]
  },
  {
   "cell_type": "code",
   "execution_count": 1,
   "id": "d4cbf696",
   "metadata": {},
   "outputs": [],
   "source": [
    "def threeSumClosest(nums, target):\n",
    "    nums.sort()\n",
    "    closest_sum = float('inf')\n",
    "    for i in range(len(nums)-2):\n",
    "        left = i+1\n",
    "        right = len(nums)-1\n",
    "        while left < right:\n",
    "            curr_sum = nums[i] + nums[left] + nums[right]\n",
    "            if abs(curr_sum - target) < abs(closest_sum - target):\n",
    "                closest_sum = curr_sum\n",
    "            if curr_sum < target:\n",
    "                left += 1\n",
    "            elif curr_sum > target:\n",
    "                right -= 1\n",
    "            else:\n",
    "                return curr_sum\n",
    "    return closest_sum\n",
    "\n",
    "nums = [-1,2,1,-4]\n",
    "target = 1"
   ]
  },
  {
   "cell_type": "code",
   "execution_count": 2,
   "id": "04906157",
   "metadata": {},
   "outputs": [
    {
     "name": "stdout",
     "output_type": "stream",
     "text": [
      "2\n"
     ]
    }
   ],
   "source": [
    "print(threeSumClosest(nums, target))"
   ]
  },
  {
   "cell_type": "markdown",
   "id": "838cec5e",
   "metadata": {},
   "source": [
    "**Q.2.** Given an array nums of n integers, return an array of all the unique quadruplets\n",
    "[nums[a], nums[b], nums[c], nums[d]] such that:\n",
    "- 0 <= a, b, c, d < n\n",
    "- a, b, c, and d are distinct.\n",
    "- nums[a] + nums[b] + nums[c] + nums[d] == target\n",
    "\n",
    "You may return the answer in any order.\n",
    "\n",
    "**Example 1:**\n",
    "\n",
    "**Input:** nums = [1,0,-1,0,-2,2], target = 0\n",
    "\n",
    "**Output:** [[-2,-1,1,2], [-2,0,0,2], [-1,0,0,1]]"
   ]
  },
  {
   "cell_type": "code",
   "execution_count": 3,
   "id": "e4dba083",
   "metadata": {},
   "outputs": [],
   "source": [
    "def fourSum(nums, target):\n",
    "    nums.sort()\n",
    "    res = set()\n",
    "    for i in range(len(nums)-3):\n",
    "        for j in range(i+1,len(nums)-2):\n",
    "            left = j+1\n",
    "            right = len(nums)-1\n",
    "            while left < right:\n",
    "                sum = nums[i]+nums[j]+nums[left]+nums[right]\n",
    "                if sum == target:\n",
    "                    res.add((nums[i],nums[j],nums[left],nums[right]))\n",
    "                    left += 1\n",
    "                    right -= 1\n",
    "                elif sum < target:\n",
    "                    left += 1\n",
    "                else:\n",
    "                    right -= 1\n",
    "    return list(res)\n",
    "nums = [1,0,-1,0,-2,2]\n",
    "target = 0"
   ]
  },
  {
   "cell_type": "code",
   "execution_count": 4,
   "id": "91707455",
   "metadata": {},
   "outputs": [
    {
     "data": {
      "text/plain": [
       "[(-2, -1, 1, 2), (-1, 0, 0, 1), (-2, 0, 0, 2)]"
      ]
     },
     "execution_count": 4,
     "metadata": {},
     "output_type": "execute_result"
    }
   ],
   "source": [
    "fourSum(nums, target)"
   ]
  },
  {
   "cell_type": "markdown",
   "id": "7155b21f",
   "metadata": {},
   "source": [
    "**Q.3.** A permutation of an array of integers is an arrangement of its members into a sequence or linear order.\n",
    "- For example, for arr = [1,2,3], the following are all the permutations of arr:\n",
    "\n",
    "    [1,2,3], [1,3,2], [2, 1, 3], [2, 3, 1], [3,1,2], [3,2,1].\n",
    "\n",
    "The next permutation of an array of integers is the next lexicographically greater permutation of its integer. More formally, if all the permutations of the array are\n",
    "sorted in one container according to their lexicographical order, then the next permutation of that array is the permutation that follows it in the sorted container.\n",
    "\n",
    "If such an arrangement is not possible, the array must be rearranged as the lowest possible order (i.e., sorted in ascending order).\n",
    "- For example, the next permutation of arr = [1,2,3] is [1,3,2].\n",
    "- Similarly, the next permutation of arr = [2,3,1] is [3,1,2].\n",
    "-  While the next permutation of arr = [3,2,1] is [1,2,3] because [3,2,1] does not have a lexicographical larger rearrangement.\n",
    "\n",
    "Given an array of integers nums, find the next permutation of nums.\n",
    "\n",
    "The replacement must be in place and use only constant extra memory.\n",
    "\n",
    "**Example 1:**\n",
    "\n",
    "**Input:** nums = [1,2,3]\n",
    "\n",
    "**Output:** [1,3,2]"
   ]
  },
  {
   "cell_type": "code",
   "execution_count": 5,
   "id": "544aaab8",
   "metadata": {},
   "outputs": [],
   "source": [
    "def nextPermutation(nums):\n",
    "    i = len(nums) - 2\n",
    "    while i >= 0 and nums[i] >= nums[i+1]:\n",
    "        i -= 1\n",
    "    if i >= 0:\n",
    "        j = len(nums) - 1\n",
    "        while j >= 0 and nums[j] <= nums[i]:\n",
    "            j -= 1\n",
    "        nums[i], nums[j] = nums[j], nums[i]\n",
    "    nums[i+1:] = reversed(nums[i+1:])\n",
    "    return nums\n",
    "\n",
    "nums = [1,2,3]"
   ]
  },
  {
   "cell_type": "code",
   "execution_count": 6,
   "id": "00744957",
   "metadata": {},
   "outputs": [
    {
     "name": "stdout",
     "output_type": "stream",
     "text": [
      "[1, 3, 2]\n"
     ]
    }
   ],
   "source": [
    "print(nextPermutation(nums))"
   ]
  },
  {
   "cell_type": "markdown",
   "id": "e4b98121",
   "metadata": {},
   "source": [
    "**Q.4.** Given a sorted array of distinct integers and a target value, return the index if the\n",
    "target is found. If not, return the index where it would be if it were inserted in order.\n",
    "\n",
    "You must write an algorithm with O(log n) runtime complexity.\n",
    "\n",
    "**Example 1:**\n",
    "\n",
    "**Input:** nums = [1,3,5,6], target = 5\n",
    "    \n",
    "**Output:** 2"
   ]
  },
  {
   "cell_type": "code",
   "execution_count": 7,
   "id": "7ff0b466",
   "metadata": {},
   "outputs": [],
   "source": [
    "def searchInsert(nums, target):\n",
    "    left = 0\n",
    "    right = len(nums) - 1\n",
    "    while left <= right:\n",
    "        mid = (left + right) // 2\n",
    "        if nums[mid] == target:\n",
    "            return mid\n",
    "        elif nums[mid] < target:\n",
    "            left = mid + 1\n",
    "        else:\n",
    "            right = mid - 1\n",
    "    return left\n",
    "\n",
    "nums = [1,3,5,6]\n",
    "target = 5"
   ]
  },
  {
   "cell_type": "code",
   "execution_count": 8,
   "id": "4081b385",
   "metadata": {},
   "outputs": [
    {
     "name": "stdout",
     "output_type": "stream",
     "text": [
      "2\n"
     ]
    }
   ],
   "source": [
    "print(searchInsert(nums, target))"
   ]
  },
  {
   "cell_type": "markdown",
   "id": "f922d802",
   "metadata": {},
   "source": [
    "**Q.5.** You are given a large integer represented as an integer array digits, where each digits[i] is the ith digit of the integer. The digits are ordered from most significant\n",
    "to least significant in left-to-right order. The large integer does not contain any leading 0's.\n",
    "\n",
    "Increment the large integer by one and return the resulting array of digits.\n",
    "\n",
    "**Example 1:**\n",
    "    \n",
    "**Input:** digits = [1,2,3]\n",
    "    \n",
    "**Output:** [1,2,4]\n",
    "\n",
    "**Explanation:** The array represents the integer 123. Incrementing by one gives 123 + 1 = 124.\n",
    "\n",
    "Thus, the result should be [1,2,4]."
   ]
  },
  {
   "cell_type": "code",
   "execution_count": 9,
   "id": "5ad4ba6a",
   "metadata": {},
   "outputs": [],
   "source": [
    "def plusOne(digits):\n",
    "    carry = 1\n",
    "    for i in range(len(digits)-1, -1, -1):\n",
    "        digits[i] += carry\n",
    "        if digits[i] < 10:\n",
    "            carry = 0\n",
    "            break\n",
    "        else:\n",
    "            digits[i] = 0\n",
    "    if carry == 1:\n",
    "        digits.insert(0, 1)\n",
    "    return digits\n",
    "\n",
    "digits = [1,2,3]"
   ]
  },
  {
   "cell_type": "code",
   "execution_count": 10,
   "id": "e5bb8580",
   "metadata": {},
   "outputs": [
    {
     "name": "stdout",
     "output_type": "stream",
     "text": [
      "[1, 2, 4]\n"
     ]
    }
   ],
   "source": [
    "print(plusOne(digits))"
   ]
  },
  {
   "cell_type": "markdown",
   "id": "26fa12a6",
   "metadata": {},
   "source": [
    "**Q.6.** Given a non-empty array of integers nums, every element appears twice except for one. Find that single one.\n",
    "\n",
    "You must implement a solution with a linear runtime complexity and use only constant extra space.\n",
    "\n",
    "**Example 1:**\n",
    "    \n",
    "**Input:** nums = [2,2,1]\n",
    "    \n",
    "**Output:** 1"
   ]
  },
  {
   "cell_type": "code",
   "execution_count": 11,
   "id": "963aca66",
   "metadata": {},
   "outputs": [],
   "source": [
    "def singleNumber(nums):\n",
    "    result = 0\n",
    "    for num in nums:\n",
    "        result ^= num\n",
    "    return result\n",
    "\n",
    "nums = [2,2,1]"
   ]
  },
  {
   "cell_type": "code",
   "execution_count": 12,
   "id": "598e583f",
   "metadata": {},
   "outputs": [
    {
     "name": "stdout",
     "output_type": "stream",
     "text": [
      "1\n"
     ]
    }
   ],
   "source": [
    "print(singleNumber(nums))"
   ]
  },
  {
   "cell_type": "markdown",
   "id": "e71d7b3f",
   "metadata": {},
   "source": [
    "**Q.7.** You are given an inclusive range [lower, upper] and a sorted unique integer array nums, where all elements are within the inclusive range.\n",
    "\n",
    "A number x is considered missing if x is in the range [lower, upper] and x is not in nums.\n",
    "\n",
    "Return the shortest sorted list of ranges that exactly covers all the missing numbers. That is, no element of nums is included in any of the ranges, and each missing number is covered by one of the ranges.\n",
    "\n",
    "**Example 1:**\n",
    "    \n",
    "**Input:** nums = [0,1,3,50,75], lower = 0, upper = 99\n",
    "    \n",
    "**Output:** [[2,2],[4,49],[51,74],[76,99]]\n",
    "    \n",
    "**Explanation:** The ranges are:\\\n",
    "[2,2]\\\n",
    "[4,49]\\\n",
    "[51,74]\\\n",
    "[76,99]"
   ]
  },
  {
   "cell_type": "code",
   "execution_count": 13,
   "id": "9f20012d",
   "metadata": {},
   "outputs": [],
   "source": [
    "def findMissingRanges(nums, lower, upper):\n",
    "    start = lower\n",
    "    end = upper\n",
    "    result = []\n",
    "    for num in nums:\n",
    "        if num <= end:\n",
    "            if num == start:\n",
    "                start += 1\n",
    "            else:\n",
    "                result.append([start, num-1])\n",
    "                start = num + 1\n",
    "        else:\n",
    "            break\n",
    "    if start <= end:\n",
    "        result.append([start, end])\n",
    "    return result\n",
    "nums = [0,1,3,50,75, 129]\n",
    "lower = 0\n",
    "upper = 128"
   ]
  },
  {
   "cell_type": "code",
   "execution_count": 14,
   "id": "2dddc170",
   "metadata": {},
   "outputs": [
    {
     "data": {
      "text/plain": [
       "[[2, 2], [4, 49], [51, 74], [76, 128]]"
      ]
     },
     "execution_count": 14,
     "metadata": {},
     "output_type": "execute_result"
    }
   ],
   "source": [
    "findMissingRanges(nums, lower, upper)"
   ]
  },
  {
   "cell_type": "markdown",
   "id": "b2ae08f1",
   "metadata": {},
   "source": [
    "**Q.8.** Given an array of meeting time intervals where intervals[i] = [starti, endi], determine if a person could attend all meetings.\n",
    "\n",
    "**Example 1:**\n",
    "    \n",
    "**Input:** intervals = [[0,30],[5,10],[15,20]]\n",
    "    \n",
    "**Output:** false"
   ]
  },
  {
   "cell_type": "code",
   "execution_count": 15,
   "id": "0cf6bb59",
   "metadata": {},
   "outputs": [],
   "source": [
    "def canAttendMeetings(intervals):\n",
    "    intervals.sort(key=lambda x: x[1])\n",
    "    for i in range(1, len(intervals)):\n",
    "        if intervals[i][0] < intervals[i-1][1]:\n",
    "            return False\n",
    "    return True\n",
    "intervals = [[0,30],[5,10],[15,20]]"
   ]
  },
  {
   "cell_type": "code",
   "execution_count": 16,
   "id": "e89e55f0",
   "metadata": {},
   "outputs": [
    {
     "data": {
      "text/plain": [
       "False"
      ]
     },
     "execution_count": 16,
     "metadata": {},
     "output_type": "execute_result"
    }
   ],
   "source": [
    "canAttendMeetings(intervals)"
   ]
  }
 ],
 "metadata": {
  "kernelspec": {
   "display_name": "Python 3 (ipykernel)",
   "language": "python",
   "name": "python3"
  },
  "language_info": {
   "codemirror_mode": {
    "name": "ipython",
    "version": 3
   },
   "file_extension": ".py",
   "mimetype": "text/x-python",
   "name": "python",
   "nbconvert_exporter": "python",
   "pygments_lexer": "ipython3",
   "version": "3.10.9"
  }
 },
 "nbformat": 4,
 "nbformat_minor": 5
}
