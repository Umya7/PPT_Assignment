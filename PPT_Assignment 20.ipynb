{
 "cells": [
  {
   "cell_type": "markdown",
   "id": "bd2f348c",
   "metadata": {},
   "source": [
    "**Q.1.** Given a binary tree, your task is to find subtree with maximum sum in tree.\n",
    "\n",
    "**Examples:**\n",
    "\n",
    "```\n",
    "Input1 :       \n",
    "\n",
    "       1\n",
    "\n",
    "     /   \\\n",
    "\n",
    "   2      3\n",
    "\n",
    "  / \\    / \\\n",
    "\n",
    "4   5   6   7\n",
    "\n",
    "Output1 : 28\n",
    "\n",
    "\n",
    "As all the tree elements are positive, the largest subtree sum is equal to sum of all tree elements.\n",
    "\n",
    "Input2 :\n",
    "\n",
    "       1\n",
    "\n",
    "     /   \\\n",
    "\n",
    "  -2      3\n",
    "\n",
    "  / \\    /  \\\n",
    "\n",
    "4   5  -6   2\n",
    "\n",
    "Output2 : 7\n",
    "\n",
    "Subtree with largest sum is :\n",
    "\n",
    " -2\n",
    "\n",
    " / \\\n",
    "\n",
    "4   5\n",
    "\n",
    "Also, entire tree sum is also 7.\n",
    "```"
   ]
  },
  {
   "cell_type": "code",
   "execution_count": 1,
   "id": "b5f7b91c",
   "metadata": {},
   "outputs": [
    {
     "name": "stdout",
     "output_type": "stream",
     "text": [
      "28\n"
     ]
    }
   ],
   "source": [
    "class Node:\n",
    "    def __init__(self, data):\n",
    "        self.data = data\n",
    "        self.left = None\n",
    "        self.right = None\n",
    "\n",
    "def find_max_sum(root):\n",
    "    if root is None:\n",
    "        return 0, 0\n",
    "    left_sum, left_max = find_max_sum(root.left)\n",
    "    right_sum, right_max = find_max_sum(root.right)\n",
    "    current_sum = left_sum + right_sum + root.data\n",
    "    return current_sum, max(left_max, right_max, current_sum)\n",
    "\n",
    "root = Node(1)\n",
    "root.left = Node(2)\n",
    "root.right = Node(3)\n",
    "root.left.left = Node(4)\n",
    "root.left.right = Node(5)\n",
    "root.right.left = Node(6)\n",
    "root.right.right = Node(7)\n",
    "\n",
    "_, max_sum = find_max_sum(root)\n",
    "print(max_sum)"
   ]
  },
  {
   "cell_type": "markdown",
   "id": "6130b0c4",
   "metadata": {},
   "source": [
    "**Q.2.** Construct the BST (Binary Search Tree) from its given level order traversal.\n",
    "\n",
    "**Example:**\n",
    "\n",
    "```\n",
    "Input: arr[] = {7, 4, 12, 3, 6, 8, 1, 5, 10}\n",
    "\n",
    "Output: BST:\n",
    "\n",
    "            7\n",
    "\n",
    "         /    \\\n",
    "\n",
    "       4     12\n",
    "\n",
    "     /  \\     /\n",
    "\n",
    "    3    6   8\n",
    "\n",
    "   /    /     \\\n",
    "\n",
    " 1    5       10\n",
    "```"
   ]
  },
  {
   "cell_type": "code",
   "execution_count": 2,
   "id": "9f96dcf5",
   "metadata": {},
   "outputs": [
    {
     "name": "stdout",
     "output_type": "stream",
     "text": [
      "1 3 4 5 6 7 8 10 12 "
     ]
    }
   ],
   "source": [
    "from collections import deque\n",
    "\n",
    "class Node:\n",
    "    def __init__(self, data):\n",
    "        self.data = data\n",
    "        self.left = None\n",
    "        self.right = None\n",
    "\n",
    "def level_order_bst(arr):\n",
    "    if not arr:\n",
    "        return None\n",
    "    root = Node(arr[0])\n",
    "    q = deque([(root, float('-inf'), float('inf'))])\n",
    "    i = 1\n",
    "    while q and i < len(arr):\n",
    "        node, lower, upper = q.popleft()\n",
    "        if i < len(arr) and lower < arr[i] < node.data:\n",
    "            node.left = Node(arr[i])\n",
    "            q.append((node.left, lower, node.data))\n",
    "            i += 1\n",
    "        if i < len(arr) and node.data < arr[i] < upper:\n",
    "            node.right = Node(arr[i])\n",
    "            q.append((node.right, node.data, upper))\n",
    "            i += 1\n",
    "    return root\n",
    "\n",
    "def inorder(root):\n",
    "    if root:\n",
    "        inorder(root.left)\n",
    "        print(root.data, end=' ')\n",
    "        inorder(root.right)\n",
    "\n",
    "arr = [7, 4, 12, 3, 6, 8, 1, 5, 10]\n",
    "root = level_order_bst(arr)\n",
    "inorder(root)"
   ]
  },
  {
   "cell_type": "markdown",
   "id": "d5d23b9c",
   "metadata": {},
   "source": [
    "**Q.3.** Given an array of size n. The problem is to check whether the given array can represent the level order traversal of a Binary Search Tree or not.\n",
    "\n",
    "**Examples:**\n",
    "\n",
    "```\n",
    "Input1 : arr[] = {7, 4, 12, 3, 6, 8, 1, 5, 10}\n",
    "\n",
    "Output1 : Yes\n",
    "\n",
    "For the given arr[], the Binary Search Tree is:\n",
    "\n",
    "            7\n",
    "\n",
    "         /    \\\n",
    "\n",
    "       4     12\n",
    "\n",
    "     /  \\     /\n",
    "\n",
    "    3    6  8\n",
    "\n",
    "   /    /     \\\n",
    "\n",
    " 1    5      10\n",
    "\n",
    "Input2 : arr[] = {11, 6, 13, 5, 12, 10}\n",
    "\n",
    "Output2 : No\n",
    "\n",
    "The given arr[] does not represent the level order traversal of a BST.\n",
    "```"
   ]
  },
  {
   "cell_type": "code",
   "execution_count": 3,
   "id": "7b18e569",
   "metadata": {},
   "outputs": [
    {
     "name": "stdout",
     "output_type": "stream",
     "text": [
      "False\n"
     ]
    }
   ],
   "source": [
    "from collections import deque\n",
    "\n",
    "def is_level_order_bst(arr):\n",
    "    if not arr:\n",
    "        return True\n",
    "    q = deque([(float('-inf'), arr[0], float('inf'))])\n",
    "    i = 1\n",
    "    while q and i < len(arr):\n",
    "        lower, val, upper = q.popleft()\n",
    "        if i < len(arr) and lower < arr[i] < val:\n",
    "            q.append((lower, arr[i], val))\n",
    "            i += 1\n",
    "        if i < len(arr) and val < arr[i] < upper:\n",
    "            q.append((val, arr[i], upper))\n",
    "            i += 1\n",
    "    return i == len(arr)\n",
    "\n",
    "arr = [11, 6, 13, 5, 12, 10]\n",
    "print(is_level_order_bst(arr))"
   ]
  }
 ],
 "metadata": {
  "kernelspec": {
   "display_name": "Python 3 (ipykernel)",
   "language": "python",
   "name": "python3"
  },
  "language_info": {
   "codemirror_mode": {
    "name": "ipython",
    "version": 3
   },
   "file_extension": ".py",
   "mimetype": "text/x-python",
   "name": "python",
   "nbconvert_exporter": "python",
   "pygments_lexer": "ipython3",
   "version": "3.10.9"
  }
 },
 "nbformat": 4,
 "nbformat_minor": 5
}
