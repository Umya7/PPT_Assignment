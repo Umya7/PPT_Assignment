{
 "cells": [
  {
   "cell_type": "markdown",
   "id": "fb7e7e84",
   "metadata": {},
   "source": [
    "**Q.1.** Given an integer `n`, return *`true` if it is a power of three. Otherwise, return `false`*.\n",
    "\n",
    "An integer `n` is a power of three, if there exists an integer `x` such that `n == 3x`.\n",
    "\n",
    "**Example 1:**\n",
    "\n",
    "```\n",
    "Input: n = 27\n",
    "Output: true\n",
    "Explanation: 27 = 33\n",
    "```\n",
    "\n",
    "**Example 2:**\n",
    "\n",
    "```\n",
    "Input: n = 0\n",
    "Output: false\n",
    "Explanation: There is no x where 3x = 0.\n",
    "\n",
    "```\n",
    "\n",
    "**Example 3:**\n",
    "\n",
    "```\n",
    "Input: n = -1\n",
    "Output: false\n",
    "Explanation: There is no x where 3x = (-1).\n",
    "\n",
    "```"
   ]
  },
  {
   "cell_type": "code",
   "execution_count": 1,
   "id": "ece2d35b",
   "metadata": {},
   "outputs": [
    {
     "name": "stdout",
     "output_type": "stream",
     "text": [
      "True\n",
      "False\n",
      "False\n"
     ]
    }
   ],
   "source": [
    "def is_power_of_three(n):\n",
    "    if n <= 0:\n",
    "        return False\n",
    "    \n",
    "    while n > 1:\n",
    "        if n % 3 != 0:\n",
    "            return False\n",
    "        n = n // 3\n",
    "    return True\n",
    "\n",
    "print(is_power_of_three(27))\n",
    "print(is_power_of_three(0))\n",
    "print(is_power_of_three(-1))"
   ]
  },
  {
   "cell_type": "markdown",
   "id": "d6cc86d9",
   "metadata": {},
   "source": [
    "**Q.2.** You have a list `arr` of all integers in the range `[1, n]` sorted in a strictly increasing order. Apply the following algorithm on `arr`:\n",
    "\n",
    "- Starting from left to right, remove the first number and every other number afterward until you reach the end of the list.\n",
    "- Repeat the previous step again, but this time from right to left, remove the rightmost number and every other number from the remaining numbers.\n",
    "- Keep repeating the steps again, alternating left to right and right to left, until a single number remains.\n",
    "\n",
    "Given the integer `n`, return *the last number that remains in* `arr`.\n",
    "\n",
    "**Example 1:**\n",
    "\n",
    "```\n",
    "Input: n = 9\n",
    "Output: 6\n",
    "Explanation:\n",
    "arr = [1, 2,3, 4,5, 6,7, 8,9]\n",
    "arr = [2,4, 6,8]\n",
    "arr = [2, 6]\n",
    "arr = [6]\n",
    "\n",
    "```\n",
    "\n",
    "**Example 2:**\n",
    "\n",
    "```\n",
    "Input: n = 1\n",
    "Output: 1\n",
    "\n",
    "```"
   ]
  },
  {
   "cell_type": "code",
   "execution_count": 2,
   "id": "da79d93d",
   "metadata": {},
   "outputs": [
    {
     "name": "stdout",
     "output_type": "stream",
     "text": [
      "6\n",
      "1\n"
     ]
    }
   ],
   "source": [
    "def lastRemaining(n):\n",
    "    \n",
    "    left = True\n",
    "    remaining = n\n",
    "    step = 1\n",
    "    head = 1\n",
    "    \n",
    "    while remaining > 1:\n",
    "        if left or remaining % 2 == 1:\n",
    "            head += step\n",
    "        step *= 2\n",
    "        remaining //= 2\n",
    "        left = not left\n",
    "\n",
    "    return head\n",
    "\n",
    "print(lastRemaining(9))\n",
    "print(lastRemaining(1))"
   ]
  },
  {
   "cell_type": "markdown",
   "id": "0888395c",
   "metadata": {},
   "source": [
    "#print(lastRemaining(1)) Explation\n",
    "\n",
    "If n = 1, then:\n",
    "\n",
    "Initialize left = True, remaining = 1, step = 1 and head = 1.\n",
    "\n",
    "Enter the while loop with remaining > 1. This condition is false, so the loop will not run at all.\n",
    "\n",
    "Return head as the final answer, which is 1."
   ]
  },
  {
   "cell_type": "markdown",
   "id": "9bd856a1",
   "metadata": {},
   "source": [
    "**Q.3.** Given a set represented as a string, write a recursive code to print all subsets of it. The subsets can be printed in any order.\n",
    "\n",
    "**Example 1:**\n",
    "\n",
    "Input :  set = “abc”\n",
    "\n",
    "Output : { “”, “a”, “b”, “c”, “ab”, “ac”, “bc”, “abc”}\n",
    "\n",
    "**Example 2:**\n",
    "\n",
    "Input : set = “abcd”\n",
    "\n",
    "Output : { “”, “a” ,”ab” ,”abc” ,”abcd”, “abd” ,”ac” ,”acd”, “ad” ,”b”, “bc” ,”bcd” ,”bd” ,”c” ,”cd” ,”d” }"
   ]
  },
  {
   "cell_type": "code",
   "execution_count": 3,
   "id": "7cd79b14",
   "metadata": {},
   "outputs": [
    {
     "name": "stdout",
     "output_type": "stream",
     "text": [
      "abc\n",
      "ab\n",
      "ac\n",
      "a\n",
      "bc\n",
      "b\n",
      "c\n",
      "\n"
     ]
    }
   ],
   "source": [
    "def subsets(string, index, current):\n",
    "    \n",
    "    if index == len(string):\n",
    "        print(current)\n",
    "        return\n",
    "    \n",
    "    subsets(string, index + 1, current + string[index])\n",
    "    subsets(string, index + 1, current)\n",
    "\n",
    "set = \"abc\"\n",
    "subsets(set, 0, \"\")"
   ]
  },
  {
   "cell_type": "markdown",
   "id": "cdc4b74d",
   "metadata": {},
   "source": [
    "**Q.4.** Given a string calculate length of the string using recursion.\n",
    "\n",
    "**Examples:**\n",
    "\n",
    "```\n",
    "Input : str = \"abcd\"\n",
    "Output :4\n",
    "\n",
    "Input : str = \"GEEKSFORGEEKS\"\n",
    "Output :13\n",
    "\n",
    "```"
   ]
  },
  {
   "cell_type": "code",
   "execution_count": 4,
   "id": "d76a9609",
   "metadata": {},
   "outputs": [
    {
     "name": "stdout",
     "output_type": "stream",
     "text": [
      "4\n"
     ]
    }
   ],
   "source": [
    "def length(string):\n",
    "    \n",
    "    if string == \"\":\n",
    "        return 0\n",
    "    else:\n",
    "        return 1 + length(string[1:])\n",
    "\n",
    "str = \"abcd\"\n",
    "print(length(str))"
   ]
  },
  {
   "cell_type": "markdown",
   "id": "1f5a0531",
   "metadata": {},
   "source": [
    "**Q.5.** We are given a string S, we need to find count of all contiguous substrings starting and ending with same character.\n",
    "\n",
    "**Examples :**\n",
    "    \n",
    "```\n",
    "Input  : S = \"abcab\"\n",
    "Output : 7\n",
    "There are 15 substrings of \"abcab\"\n",
    "a, ab, abc, abca, abcab, b, bc, bca\n",
    "bcab, c, ca, cab, a, ab, b\n",
    "Out of the above substrings, there\n",
    "are 7 substrings : a, abca, b, bcab,\n",
    "c, a and b.\n",
    "\n",
    "Input  : S = \"aba\"\n",
    "Output : 4\n",
    "The substrings are a, b, a and aba\n",
    "```"
   ]
  },
  {
   "cell_type": "code",
   "execution_count": 5,
   "id": "2af44c70",
   "metadata": {},
   "outputs": [
    {
     "name": "stdout",
     "output_type": "stream",
     "text": [
      "4\n"
     ]
    }
   ],
   "source": [
    "def count_substrings(string):\n",
    "    \n",
    "    result = 0\n",
    "    n = len(string)\n",
    "    \n",
    "    for i in range(n):\n",
    "        for j in range(i, n):\n",
    "            if string[i] == string[j]:\n",
    "                result += 1\n",
    "    return result\n",
    "\n",
    "S = \"aba\"\n",
    "print(count_substrings(S))"
   ]
  },
  {
   "cell_type": "markdown",
   "id": "b0c897c3",
   "metadata": {},
   "source": [
    "**Q.6.** The [tower of Hanoi](https://en.wikipedia.org/wiki/Tower_of_Hanoi) is a famous puzzle where we have three rods and **N** disks. The objective of the puzzle is to move the entire stack to another rod. You are given the number of discs **N**. Initially, these discs are in the rod 1. You need to print all the steps of discs movement so that all the discs reach the 3rd rod. Also, you need to find the total moves.**Note:** The discs are arranged such that the **top disc is numbered 1** and the **bottom-most disc is numbered N**. Also, all the discs have **different sizes** and a bigger disc **cannot** be put on the top of a smaller disc. Refer the provided link to get a better clarity about the puzzle.\n",
    "\n",
    "**Example 1:**\n",
    "    \n",
    "```\n",
    "Input:\n",
    "N = 2\n",
    "Output:\n",
    "move disk 1 from rod 1 to rod 2\n",
    "move disk 2 from rod 1 to rod 3\n",
    "move disk 1 from rod 2 to rod 3\n",
    "3\n",
    "Explanation:For N=2 , steps will be\n",
    "as follows in the example and total\n",
    "3 steps will be taken.\n",
    "```\n",
    "\n",
    "**Example 2:**\n",
    "    \n",
    "```\n",
    "Input:\n",
    "N = 3\n",
    "Output:\n",
    "move disk 1 from rod 1 to rod 3\n",
    "move disk 2 from rod 1 to rod 2\n",
    "move disk 1 from rod 3 to rod 2\n",
    "move disk 3 from rod 1 to rod 3\n",
    "move disk 1 from rod 2 to rod 1\n",
    "move disk 2 from rod 2 to rod 3\n",
    "move disk 1 from rod 1 to rod 3\n",
    "7\n",
    "Explanation:For N=3 , steps will be\n",
    "as follows in the example and total\n",
    "7 steps will be taken.\n",
    "```"
   ]
  },
  {
   "cell_type": "code",
   "execution_count": 6,
   "id": "3354af4f",
   "metadata": {},
   "outputs": [
    {
     "name": "stdout",
     "output_type": "stream",
     "text": [
      "Move disk 1 from pole 1 to pole 3\n",
      "Move disk 2 from pole 1 to pole 2\n",
      "Move disk 1 from pole 3 to pole 2\n",
      "Move disk 3 from pole 1 to pole 3\n",
      "Move disk 1 from pole 2 to pole 1\n",
      "Move disk 2 from pole 2 to pole 3\n",
      "Move disk 1 from pole 1 to pole 3\n"
     ]
    }
   ],
   "source": [
    "def tower_of_hanoi(n, source, destination, intermediate):\n",
    "    \n",
    "    if n == 1:\n",
    "        print(f\"Move disk 1 from pole {source} to pole {destination}\")\n",
    "        return\n",
    "    \n",
    "    tower_of_hanoi(n-1, source, intermediate, destination)\n",
    "    print(f\"Move disk {n} from pole {source} to pole {destination}\")\n",
    "    tower_of_hanoi(n-1, intermediate, destination, source)\n",
    "\n",
    "n = 3\n",
    "tower_of_hanoi(n, 1, 3, 2) #where source = 1, destination = 3 & intermediate = 2"
   ]
  },
  {
   "cell_type": "markdown",
   "id": "7d6cef24",
   "metadata": {},
   "source": [
    "**Q.7.** Given a string **str**, the task is to print all the permutations of **str**. A **permutation** is an arrangement of all or part of a set of objects, with regard to the order of the arrangement. For instance, the words ‘bat’ and ‘tab’ represents two distinct permutation (or arrangements) of a similar three letter word.\n",
    "\n",
    "**Examples:**\n",
    "    \n",
    "```\n",
    "Input: str = “cd”\n",
    "Output: cd dc\n",
    "    \n",
    "Input: str = “abb”\n",
    "Output: abb abb bab bba bab bba\n",
    "```"
   ]
  },
  {
   "cell_type": "code",
   "execution_count": 7,
   "id": "54585cc3",
   "metadata": {},
   "outputs": [
    {
     "name": "stdout",
     "output_type": "stream",
     "text": [
      "cd\n",
      "dc\n"
     ]
    }
   ],
   "source": [
    "def permute(string, index, current):\n",
    "    \n",
    "    if index == len(string):\n",
    "        print(current)\n",
    "        return\n",
    "    \n",
    "    for i in range(index, len(string)):\n",
    "        string[index], string[i] = string[i], string[index]\n",
    "        permute(string, index + 1, current + string[index])\n",
    "        string[index], string[i] = string[i], string[index]\n",
    "\n",
    "str = \"cd\"\n",
    "string = list(str)\n",
    "\n",
    "permute(string, 0, \"\")"
   ]
  },
  {
   "cell_type": "markdown",
   "id": "0db7a9e0",
   "metadata": {},
   "source": [
    "**Q.8.** Given a string, count total number of consonants in it. A consonant is an English alphabet character that is not vowel (a, e, i, o and u). Examples of constants are b, c, d, f, and g.\n",
    "\n",
    "**Examples :**\n",
    "\n",
    "```\n",
    "Input : abc de\n",
    "Output : 3\n",
    "There are three consonants b, c and d.\n",
    "\n",
    "Input : geeksforgeeks portal\n",
    "Output : 12\n",
    "```"
   ]
  },
  {
   "cell_type": "code",
   "execution_count": 8,
   "id": "b4c1709a",
   "metadata": {},
   "outputs": [
    {
     "name": "stdout",
     "output_type": "stream",
     "text": [
      "1\n"
     ]
    }
   ],
   "source": [
    "def count_consonants(string):\n",
    "    \n",
    "    result = 0\n",
    "    string = string.lower()\n",
    "    vowels = \"aeiou\"\n",
    "    \n",
    "    for char in string:\n",
    "        if char not in vowels and char != \" \":\n",
    "            result += 1\n",
    "            return result\n",
    "\n",
    "string = \"geeksforgeeks portal\"\n",
    "print(count_consonants(string))"
   ]
  }
 ],
 "metadata": {
  "kernelspec": {
   "display_name": "Python 3 (ipykernel)",
   "language": "python",
   "name": "python3"
  },
  "language_info": {
   "codemirror_mode": {
    "name": "ipython",
    "version": 3
   },
   "file_extension": ".py",
   "mimetype": "text/x-python",
   "name": "python",
   "nbconvert_exporter": "python",
   "pygments_lexer": "ipython3",
   "version": "3.10.9"
  }
 },
 "nbformat": 4,
 "nbformat_minor": 5
}
